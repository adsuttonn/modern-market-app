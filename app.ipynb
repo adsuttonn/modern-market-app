{
 "cells": [
  {
   "cell_type": "code",
   "execution_count": null,
   "metadata": {},
   "outputs": [
    {
     "name": "stdout",
     "output_type": "stream",
     "text": [
      " * Serving Flask app \"__main__\" (lazy loading)\n",
      " * Environment: production\n",
      "\u001b[31m   WARNING: This is a development server. Do not use it in a production deployment.\u001b[0m\n",
      "\u001b[2m   Use a production WSGI server instead.\u001b[0m\n",
      " * Debug mode: on\n"
     ]
    },
    {
     "name": "stderr",
     "output_type": "stream",
     "text": [
      " * Running on http://127.0.0.1:8000/ (Press CTRL+C to quit)\n",
      "127.0.0.1 - - [27/Nov/2022 18:10:17] \"GET / HTTP/1.1\" 200 -\n",
      "127.0.0.1 - - [27/Nov/2022 18:10:19] \"GET /about HTTP/1.1\" 200 -\n",
      "127.0.0.1 - - [27/Nov/2022 18:10:20] \"GET /static/image.png HTTP/1.1\" 200 -\n"
     ]
    }
   ],
   "source": [
    "#!/usr/bin/env python3\n",
    "# -*- coding: utf-8 -*-\n",
    "\n",
    "from flask import Flask, render_template\n",
    "\n",
    "DEVELOPMENT_ENV  = True\n",
    "\n",
    "app = Flask(__name__, static_url_path='/static')\n",
    "\n",
    "app_data = {\n",
    "    \"name\":         \"Peter's Starter Template for a Flask Web App\",\n",
    "    \"description\":  \"A basic Flask app using bootstrap for layout\",\n",
    "    \"author\":       \"Peter Simeth\",\n",
    "    \"html_title\":   \"Peter's Starter Template for a Flask Web App\",\n",
    "    \"project_name\": \"Starter Template\",\n",
    "    \"keywords\":     \"flask, webapp, template, basic\"\n",
    "}\n",
    "\n",
    "\n",
    "@app.route('/')\n",
    "def index():\n",
    "    return render_template('index.html', app_data=app_data)\n",
    "\n",
    "\n",
    "@app.route('/about')\n",
    "def about():\n",
    "    return render_template('about.html', app_data=app_data)\n",
    "\n",
    "\n",
    "@app.route('/service')\n",
    "def service():\n",
    "    return render_template('service.html', app_data=app_data)\n",
    "\n",
    "\n",
    "@app.route('/contact')\n",
    "def contact():\n",
    "    return render_template('contact.html', app_data=app_data)\n",
    "\n",
    "\n",
    "if __name__ == '__main__':\n",
    "    app.run(debug=DEVELOPMENT_ENV, use_reloader=False, port=8000)"
   ]
  },
  {
   "cell_type": "code",
   "execution_count": null,
   "metadata": {},
   "outputs": [],
   "source": []
  }
 ],
 "metadata": {
  "kernelspec": {
   "display_name": "Python 3 (ipykernel)",
   "language": "python",
   "name": "python3"
  },
  "language_info": {
   "codemirror_mode": {
    "name": "ipython",
    "version": 3
   },
   "file_extension": ".py",
   "mimetype": "text/x-python",
   "name": "python",
   "nbconvert_exporter": "python",
   "pygments_lexer": "ipython3",
   "version": "3.9.13"
  }
 },
 "nbformat": 4,
 "nbformat_minor": 4
}
